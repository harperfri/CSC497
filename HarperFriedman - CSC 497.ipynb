{
 "cells": [
  {
   "cell_type": "markdown",
   "metadata": {},
   "source": [
    "**Harper Friedman**\n",
    "\n",
    "**V00875407**\n",
    "\n",
    "**CSC 497 Project**\n",
    "\n",
    "**Summer 2021**\n",
    "\n",
    "**Binaural Audio**"
   ]
  },
  {
   "cell_type": "markdown",
   "metadata": {},
   "source": [
    "**What is binaural audio?**\n",
    "\n",
    "Binaural audio is loosely defined as two-channel audio that has been filtered or recorded to sound like humans hear, meaning that the sound appears to be coming from outside of the listener’s head at some appropriate point in space."
   ]
  },
  {
   "cell_type": "code",
   "execution_count": null,
   "metadata": {},
   "outputs": [],
   "source": []
  }
 ],
 "metadata": {
  "kernelspec": {
   "display_name": "Python 3",
   "language": "python",
   "name": "python3"
  },
  "language_info": {
   "codemirror_mode": {
    "name": "ipython",
    "version": 3
   },
   "file_extension": ".py",
   "mimetype": "text/x-python",
   "name": "python",
   "nbconvert_exporter": "python",
   "pygments_lexer": "ipython3",
   "version": "3.8.3"
  }
 },
 "nbformat": 4,
 "nbformat_minor": 4
}
